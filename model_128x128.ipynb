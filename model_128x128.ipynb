{
  "nbformat": 4,
  "nbformat_minor": 0,
  "metadata": {
    "accelerator": "GPU",
    "colab": {
      "name": "model 128x128.ipynb",
      "provenance": [],
      "mount_file_id": "12OdbhHD9fSHMHpi_uDguK5c0vGf48aPi",
      "authorship_tag": "ABX9TyMhjO/yE8BAs9fsPfEvHq+U",
      "include_colab_link": true
    },
    "kernelspec": {
      "display_name": "Python 3",
      "name": "python3"
    },
    "language_info": {
      "name": "python"
    }
  },
  "cells": [
    {
      "cell_type": "markdown",
      "metadata": {
        "id": "view-in-github",
        "colab_type": "text"
      },
      "source": [
        "<a href=\"https://colab.research.google.com/github/RiyadAhmedCS/CSNEA2022/blob/main/model_128x128.ipynb\" target=\"_parent\"><img src=\"https://colab.research.google.com/assets/colab-badge.svg\" alt=\"Open In Colab\"/></a>"
      ]
    },
    {
      "cell_type": "markdown",
      "metadata": {
        "id": "9Dks8J3snoJE"
      },
      "source": [
        "###times\n",
        "######w/ xla + mixed precision : 3m10s\n",
        "######w/ xla : 2m40s\n",
        "######w/o xla + mixed precision: 2m41s"
      ]
    },
    {
      "cell_type": "markdown",
      "metadata": {
        "id": "qyL1Lk5F-XML"
      },
      "source": [
        "Code"
      ]
    },
    {
      "cell_type": "code",
      "metadata": {
        "id": "NBrbBpiacBZ4"
      },
      "source": [
        "import os\n",
        "os.environ[\"TF_CCP_MIN_LOG_LEVEL\"] = \"2\"\n",
        "import tensorflow as tf\n",
        "from tensorflow import keras\n",
        "from tensorflow.keras import layers\n",
        "from tqdm import tqdm\n",
        "import numpy as np\n",
        "import matplotlib.pyplot as plt"
      ],
      "execution_count": 2,
      "outputs": []
    },
    {
      "cell_type": "code",
      "metadata": {
        "id": "--QqIreYcZaR"
      },
      "source": [
        "physical_devices = tf.config.list_physical_devices(\"GPU\")\n",
        "tf.config.experimental.set_memory_growth(physical_devices[0], True)\n",
        "tf.config.optimizer.set_jit(True)"
      ],
      "execution_count": 3,
      "outputs": []
    },
    {
      "cell_type": "code",
      "metadata": {
        "id": "4pzg9f8eGgyV"
      },
      "source": [
        "#Add code here to download new datasets"
      ],
      "execution_count": null,
      "outputs": []
    },
    {
      "cell_type": "code",
      "metadata": {
        "colab": {
          "base_uri": "https://localhost:8080/"
        },
        "id": "obsNY4eWcqjX",
        "outputId": "eb0f95c9-0eb8-447a-b834-133167ce79c1"
      },
      "source": [
        "dataset = keras.preprocessing.image_dataset_from_directory(directory =\"/content/drive/MyDrive/nea_files/newimgs128\",\n",
        "                                                           label_mode=None,\n",
        "                                                           image_size=(128, 128),\n",
        "                                                           batch_size=32,\n",
        "                                                           shuffle=True\n",
        "                                                           \n",
        "                                                           ).map(lambda x: x/255)"
      ],
      "execution_count": 4,
      "outputs": [
        {
          "output_type": "stream",
          "name": "stdout",
          "text": [
            "Found 250 files belonging to 1 classes.\n"
          ]
        }
      ]
    },
    {
      "cell_type": "code",
      "metadata": {
        "id": "udBzKeyXc6P2",
        "colab": {
          "base_uri": "https://localhost:8080/"
        },
        "outputId": "ea3912f3-3e30-4da6-ccfe-14e898050da7"
      },
      "source": [
        "#Code to initialise model\n",
        "\n",
        "# discriminator = keras.Sequential(\n",
        "#     [\n",
        "#         keras.Input(shape=(128, 128, 3)), \n",
        "#         layers.Conv2D(64, kernel_size=4, strides=2, padding=\"same\"),\n",
        "#         layers.LeakyReLU(0.2),\n",
        "#         layers.Conv2D(128, kernel_size=4, strides=2, padding=\"same\"),\n",
        "#         layers.LeakyReLU(0.2),\n",
        "#         layers.Conv2D(256, kernel_size=4, strides=2, padding=\"same\"),\n",
        "#         layers.LeakyReLU(0.2),\n",
        "#         layers.Conv2D(512, kernel_size=4, strides=2, padding=\"same\"),\n",
        "#         layers.LeakyReLU(0.2),\n",
        "#         layers.Flatten(),\n",
        "#         layers.Dropout(0.2),\n",
        "#         layers.Dense(1, activation=\"sigmoid\")\n",
        "#         #Sigmoid use to determine if image real or fake\n",
        "#     ]\n",
        "# )\n",
        "\n",
        "#Load model that has been trained\n",
        "\n",
        "discriminator = tf.keras.models.load_model('/content/drive/MyDrive/nea_files/model_Discriminator')\n",
        "print(discriminator.summary())"
      ],
      "execution_count": 20,
      "outputs": [
        {
          "output_type": "stream",
          "name": "stdout",
          "text": [
            "Model: \"sequential_2\"\n",
            "_________________________________________________________________\n",
            " Layer (type)                Output Shape              Param #   \n",
            "=================================================================\n",
            " conv2d_5 (Conv2D)           (None, 64, 64, 64)        3136      \n",
            "                                                                 \n",
            " leaky_re_lu_8 (LeakyReLU)   (None, 64, 64, 64)        0         \n",
            "                                                                 \n",
            " conv2d_6 (Conv2D)           (None, 32, 32, 128)       131200    \n",
            "                                                                 \n",
            " leaky_re_lu_9 (LeakyReLU)   (None, 32, 32, 128)       0         \n",
            "                                                                 \n",
            " conv2d_7 (Conv2D)           (None, 16, 16, 256)       524544    \n",
            "                                                                 \n",
            " leaky_re_lu_10 (LeakyReLU)  (None, 16, 16, 256)       0         \n",
            "                                                                 \n",
            " conv2d_8 (Conv2D)           (None, 8, 8, 512)         2097664   \n",
            "                                                                 \n",
            " leaky_re_lu_11 (LeakyReLU)  (None, 8, 8, 512)         0         \n",
            "                                                                 \n",
            " flatten_1 (Flatten)         (None, 32768)             0         \n",
            "                                                                 \n",
            " dropout_1 (Dropout)         (None, 32768)             0         \n",
            "                                                                 \n",
            " dense_2 (Dense)             (None, 1)                 32769     \n",
            "                                                                 \n",
            "=================================================================\n",
            "Total params: 2,789,313\n",
            "Trainable params: 2,789,313\n",
            "Non-trainable params: 0\n",
            "_________________________________________________________________\n",
            "None\n"
          ]
        }
      ]
    },
    {
      "cell_type": "code",
      "metadata": {
        "id": "6NH1G6ezdp2K",
        "colab": {
          "base_uri": "https://localhost:8080/"
        },
        "outputId": "854f718f-cf54-4e13-817a-7c2d36a0da5f"
      },
      "source": [
        "#Code to initialise model\n",
        "\n",
        "# latent_dim = 128\n",
        "\n",
        "# generator = keras.Sequential(\n",
        "#     [\n",
        "#         layers.Input(shape=(latent_dim,)),\n",
        "#         layers.Dense(8*8*128),\n",
        "#         layers.Reshape((8,8,128)),\n",
        "#         layers.Conv2DTranspose(128, kernel_size=4, strides=2, padding=\"same\"),\n",
        "#         layers.LeakyReLU(0.2),\n",
        "#         layers.Conv2DTranspose(256, kernel_size=4, strides=2, padding=\"same\"),\n",
        "#         layers.LeakyReLU(0.2),\n",
        "#         layers.Conv2DTranspose(512, kernel_size=4, strides=2, padding=\"same\"),\n",
        "#         layers.LeakyReLU(0.2),\n",
        "#         layers.Conv2DTranspose(1024, kernel_size=4, strides=2, padding=\"same\"),\n",
        "#         layers.LeakyReLU(0.2),\n",
        "#         layers.Conv2D(3, kernel_size=5, padding=\"same\", activation=\"sigmoid\"),\n",
        "#     ]\n",
        "# )\n",
        "\n",
        "#Load model that has been trained\n",
        "\n",
        "generator = tf.keras.models.load_model('/content/drive/MyDrive/nea_files/model_Generator/')\n",
        "print(generator.summary())"
      ],
      "execution_count": 21,
      "outputs": [
        {
          "output_type": "stream",
          "name": "stdout",
          "text": [
            "Model: \"sequential_3\"\n",
            "_________________________________________________________________\n",
            " Layer (type)                Output Shape              Param #   \n",
            "=================================================================\n",
            " dense_3 (Dense)             (None, 8192)              1056768   \n",
            "                                                                 \n",
            " reshape_1 (Reshape)         (None, 8, 8, 128)         0         \n",
            "                                                                 \n",
            " conv2d_transpose_4 (Conv2DT  (None, 16, 16, 128)      262272    \n",
            " ranspose)                                                       \n",
            "                                                                 \n",
            " leaky_re_lu_12 (LeakyReLU)  (None, 16, 16, 128)       0         \n",
            "                                                                 \n",
            " conv2d_transpose_5 (Conv2DT  (None, 32, 32, 256)      524544    \n",
            " ranspose)                                                       \n",
            "                                                                 \n",
            " leaky_re_lu_13 (LeakyReLU)  (None, 32, 32, 256)       0         \n",
            "                                                                 \n",
            " conv2d_transpose_6 (Conv2DT  (None, 64, 64, 512)      2097664   \n",
            " ranspose)                                                       \n",
            "                                                                 \n",
            " leaky_re_lu_14 (LeakyReLU)  (None, 64, 64, 512)       0         \n",
            "                                                                 \n",
            " conv2d_transpose_7 (Conv2DT  (None, 128, 128, 1024)   8389632   \n",
            " ranspose)                                                       \n",
            "                                                                 \n",
            " leaky_re_lu_15 (LeakyReLU)  (None, 128, 128, 1024)    0         \n",
            "                                                                 \n",
            " conv2d_9 (Conv2D)           (None, 128, 128, 3)       76803     \n",
            "                                                                 \n",
            "=================================================================\n",
            "Total params: 12,407,683\n",
            "Trainable params: 12,407,683\n",
            "Non-trainable params: 0\n",
            "_________________________________________________________________\n",
            "None\n"
          ]
        }
      ]
    },
    {
      "cell_type": "code",
      "metadata": {
        "id": "CC5SrAzqfn2f",
        "colab": {
          "base_uri": "https://localhost:8080/"
        },
        "outputId": "f404f074-ad6c-4bd8-cbf5-1fbd469a36cd"
      },
      "source": [
        "opt_gen = keras.optimizers.Adam(1e-4)\n",
        "opt_disc = keras.optimizers.Adam(1e-4)\n",
        "loss_fn = keras.losses.BinaryCrossentropy()\n",
        "\n",
        "for epoch in range(1,2):\n",
        "  for i, real in enumerate(tqdm(dataset)):\n",
        "    batch_size = real.shape[0]\n",
        "    random_latent_vectors = tf.random.normal(shape=(batch_size, latent_dim))\n",
        "    fake = generator(random_latent_vectors)\n",
        "\n",
        "    if i % 100 == 0:\n",
        "      img = keras.preprocessing.image.array_to_img(fake[0])\n",
        "      img.save(f\"/content/drive/MyDrive/nea_files/generated_imgs/generated_img{epoch}_{i}.png\")\n",
        "    with tf.GradientTape() as disc_tape:\n",
        "      loss_disc_real = loss_fn(tf.ones(batch_size, 1), discriminator(real))\n",
        "      loss_disc_fake = loss_fn(tf.zeros(batch_size, 1), discriminator(fake))\n",
        "      loss_disc = (loss_disc_real + loss_disc_fake) / 2\n",
        "\n",
        "    grads = disc_tape.gradient(loss_disc, discriminator.trainable_weights)\n",
        "    opt_disc.apply_gradients(\n",
        "        zip(grads, discriminator.trainable_weights)\n",
        "        )\n",
        "    \n",
        "    with tf.GradientTape() as gen_tape:\n",
        "      fake = generator(random_latent_vectors)\n",
        "      output = discriminator(fake)\n",
        "      loss_gen = loss_fn(tf.ones(batch_size, 1), output)\n",
        "\n",
        "    grads = gen_tape.gradient(loss_gen, generator.trainable_weights)\n",
        "    opt_gen.apply_gradients(\n",
        "        zip(grads, generator.trainable_weights)\n",
        "        )\n",
        "    \n"
      ],
      "execution_count": 18,
      "outputs": [
        {
          "output_type": "stream",
          "name": "stderr",
          "text": [
            "100%|██████████| 8/8 [01:21<00:00, 10.24s/it]\n"
          ]
        }
      ]
    },
    {
      "cell_type": "code",
      "metadata": {
        "colab": {
          "base_uri": "https://localhost:8080/"
        },
        "id": "NN1OI1yu_ijx",
        "outputId": "2647206a-04e7-4c37-daf3-643f14399330"
      },
      "source": [
        "# Save Model\n",
        "\n",
        "generator.compile(\n",
        "    loss=keras.losses.BinaryCrossentropy(),\n",
        "    optimizer=keras.optimizers.Adam(1e-4),\n",
        "    metrics=[\"accuracy\"],\n",
        ")\n",
        "\n",
        "discriminator.compile(\n",
        "    loss=keras.losses.BinaryCrossentropy(),\n",
        "    optimizer=keras.optimizers.Adam(1e-4),\n",
        "    metrics=[\"accuracy\"],\n",
        ")\n",
        "\n",
        "generator.save(\"/content/drive/MyDrive/nea_files/model_Generator/\",\n",
        "               save_format='tf')\n",
        "\n",
        "discriminator.save(\"/content/drive/MyDrive/nea_files/model_Discriminator/\",\n",
        "                   save_format='tf')"
      ],
      "execution_count": 19,
      "outputs": [
        {
          "output_type": "stream",
          "name": "stdout",
          "text": [
            "INFO:tensorflow:Assets written to: /content/drive/MyDrive/nea_files/model_Generator/assets\n",
            "INFO:tensorflow:Assets written to: /content/drive/MyDrive/nea_files/model_Discriminator/assets\n"
          ]
        }
      ]
    },
    {
      "cell_type": "code",
      "metadata": {
        "id": "E_cIz6Kaur83"
      },
      "source": [
        "# img = keras.preprocessing.image.array_to_img(fake[0])\n",
        "# img.save(f\"/content/drive/MyDrive/nea_files/generated_imgs/generated_img{epoch}_{i}.png\")"
      ],
      "execution_count": null,
      "outputs": []
    }
  ]
}