{
  "nbformat": 4,
  "nbformat_minor": 0,
  "metadata": {
    "accelerator": "GPU",
    "colab": {
      "name": "model 128x128.ipynb",
      "provenance": [],
      "mount_file_id": "12OdbhHD9fSHMHpi_uDguK5c0vGf48aPi",
      "authorship_tag": "ABX9TyNnnoTYvfVOwyKR3R7LMGa1",
      "include_colab_link": true
    },
    "kernelspec": {
      "display_name": "Python 3",
      "name": "python3"
    },
    "language_info": {
      "name": "python"
    }
  },
  "cells": [
    {
      "cell_type": "markdown",
      "metadata": {
        "id": "view-in-github",
        "colab_type": "text"
      },
      "source": [
        "<a href=\"https://colab.research.google.com/github/RiyadAhmedCS/CSNEA2022/blob/main/model_128x128.ipynb\" target=\"_parent\"><img src=\"https://colab.research.google.com/assets/colab-badge.svg\" alt=\"Open In Colab\"/></a>"
      ]
    },
    {
      "cell_type": "markdown",
      "metadata": {
        "id": "9Dks8J3snoJE"
      },
      "source": [
        "###times\n",
        "######w/ xla + mixed precision : 3m10s\n",
        "######w/ xla : 2m40s\n",
        "######w/o xla + mixed precision: 2m41s\n",
        "######w tpu + xla:"
      ]
    },
    {
      "cell_type": "markdown",
      "metadata": {
        "id": "qyL1Lk5F-XML"
      },
      "source": [
        "Code"
      ]
    },
    {
      "cell_type": "code",
      "metadata": {
        "colab": {
          "base_uri": "https://localhost:8080/"
        },
        "id": "W_VIX_QJcFe_",
        "outputId": "4d930f8e-0a3a-4f82-f329-30f8c19c09b0"
      },
      "source": [
        "!apt-get update"
      ],
      "execution_count": null,
      "outputs": [
        {
          "output_type": "stream",
          "name": "stdout",
          "text": [
            "Hit:1 https://cloud.r-project.org/bin/linux/ubuntu bionic-cran40/ InRelease\n",
            "Ign:2 https://developer.download.nvidia.com/compute/cuda/repos/ubuntu1804/x86_64  InRelease\n",
            "Hit:3 http://security.ubuntu.com/ubuntu bionic-security InRelease\n",
            "Hit:4 http://ppa.launchpad.net/c2d4u.team/c2d4u4.0+/ubuntu bionic InRelease\n",
            "Ign:5 https://developer.download.nvidia.com/compute/machine-learning/repos/ubuntu1804/x86_64  InRelease\n",
            "Hit:6 https://developer.download.nvidia.com/compute/cuda/repos/ubuntu1804/x86_64  Release\n",
            "Hit:7 https://developer.download.nvidia.com/compute/machine-learning/repos/ubuntu1804/x86_64  Release\n",
            "Hit:8 http://archive.ubuntu.com/ubuntu bionic InRelease\n",
            "Hit:9 http://archive.ubuntu.com/ubuntu bionic-updates InRelease\n",
            "Hit:10 http://ppa.launchpad.net/cran/libgit2/ubuntu bionic InRelease\n",
            "Hit:12 http://archive.ubuntu.com/ubuntu bionic-backports InRelease\n",
            "Hit:14 http://ppa.launchpad.net/deadsnakes/ppa/ubuntu bionic InRelease\n",
            "Hit:15 http://ppa.launchpad.net/graphics-drivers/ppa/ubuntu bionic InRelease\n",
            "Reading package lists... Done\n",
            "Requirement already satisfied: pyyaml in /usr/local/lib/python3.7/dist-packages (3.13)\n",
            "Requirement already satisfied: h5py in /usr/local/lib/python3.7/dist-packages (3.1.0)\n",
            "Requirement already satisfied: cached-property in /usr/local/lib/python3.7/dist-packages (from h5py) (1.5.2)\n",
            "Requirement already satisfied: numpy>=1.14.5 in /usr/local/lib/python3.7/dist-packages (from h5py) (1.19.5)\n"
          ]
        }
      ]
    },
    {
      "cell_type": "code",
      "metadata": {
        "id": "NBrbBpiacBZ4"
      },
      "source": [
        "import os\n",
        "os.environ[\"TF_CCP_MIN_LOG_LEVEL\"] = \"2\"\n",
        "import tensorflow as tf\n",
        "from tensorflow import keras\n",
        "from tensorflow.keras import layers\n",
        "from tqdm import tqdm\n",
        "import numpy as np\n",
        "import matplotlib.pyplot as plt"
      ],
      "execution_count": null,
      "outputs": []
    },
    {
      "cell_type": "code",
      "metadata": {
        "id": "--QqIreYcZaR"
      },
      "source": [
        "physical_devices = tf.config.list_physical_devices(\"GPU\")\n",
        "tf.config.experimental.set_memory_growth(physical_devices[0], True)\n",
        "tf.config.optimizer.set_jit(True)"
      ],
      "execution_count": null,
      "outputs": []
    },
    {
      "cell_type": "code",
      "metadata": {
        "colab": {
          "base_uri": "https://localhost:8080/"
        },
        "id": "obsNY4eWcqjX",
        "outputId": "a1848285-0e4c-4b60-876b-344b1f3ff40f"
      },
      "source": [
        "dataset = keras.preprocessing.image_dataset_from_directory(directory =\"/content/drive/MyDrive/nea_files/newimgs128\",\n",
        "                                                           label_mode=None,\n",
        "                                                           image_size=(128, 128),\n",
        "                                                           batch_size=32,\n",
        "                                                           shuffle=True\n",
        "                                                           \n",
        "                                                           ).map(lambda x: x/255)"
      ],
      "execution_count": null,
      "outputs": [
        {
          "output_type": "stream",
          "name": "stdout",
          "text": [
            "Found 250 files belonging to 1 classes.\n"
          ]
        }
      ]
    },
    {
      "cell_type": "code",
      "metadata": {
        "id": "udBzKeyXc6P2",
        "colab": {
          "base_uri": "https://localhost:8080/"
        },
        "outputId": "ffec7227-bd08-4d10-875f-45b86df7b109"
      },
      "source": [
        "if os.path.isdir('/content/drive/MyDrive/nea_files/newimgs128/model_Discriminator'):\n",
        "  discriminator = keras.models.load_model('/content/drive/MyDrive/nea_files/newimgs128/model_Discriminator.h5')\n",
        "  print(\"model loaded\")\n",
        "else:\n",
        "  print(\"failed\")\n",
        "  discriminator = keras.Sequential(\n",
        "      [\n",
        "          keras.Input(shape=(128, 128, 3)), \n",
        "          layers.Conv2D(64, kernel_size=4, strides=2, padding=\"same\"),\n",
        "          layers.LeakyReLU(0.2),\n",
        "          layers.Conv2D(128, kernel_size=4, strides=2, padding=\"same\"),\n",
        "          layers.LeakyReLU(0.2),\n",
        "          layers.Conv2D(256, kernel_size=4, strides=2, padding=\"same\"),\n",
        "          layers.LeakyReLU(0.2),\n",
        "          layers.Conv2D(512, kernel_size=4, strides=2, padding=\"same\"),\n",
        "          layers.LeakyReLU(0.2),\n",
        "          layers.Flatten(),\n",
        "          layers.Dropout(0.2),\n",
        "          layers.Dense(1, activation=\"sigmoid\")\n",
        "          #Sigmoid use to determine if image real or fake\n",
        "      ]\n",
        "  )\n",
        "\n",
        "print(discriminator.summary())"
      ],
      "execution_count": null,
      "outputs": [
        {
          "output_type": "stream",
          "name": "stdout",
          "text": [
            "WARNING:tensorflow:No training configuration found in the save file, so the model was *not* compiled. Compile it manually.\n",
            "model loaded\n",
            "Model: \"sequential\"\n",
            "_________________________________________________________________\n",
            " Layer (type)                Output Shape              Param #   \n",
            "=================================================================\n",
            " conv2d (Conv2D)             (None, 64, 64, 64)        3136      \n",
            "                                                                 \n",
            " leaky_re_lu (LeakyReLU)     (None, 64, 64, 64)        0         \n",
            "                                                                 \n",
            " conv2d_1 (Conv2D)           (None, 32, 32, 128)       131200    \n",
            "                                                                 \n",
            " leaky_re_lu_1 (LeakyReLU)   (None, 32, 32, 128)       0         \n",
            "                                                                 \n",
            " conv2d_2 (Conv2D)           (None, 16, 16, 256)       524544    \n",
            "                                                                 \n",
            " leaky_re_lu_2 (LeakyReLU)   (None, 16, 16, 256)       0         \n",
            "                                                                 \n",
            " conv2d_3 (Conv2D)           (None, 8, 8, 512)         2097664   \n",
            "                                                                 \n",
            " leaky_re_lu_3 (LeakyReLU)   (None, 8, 8, 512)         0         \n",
            "                                                                 \n",
            " flatten (Flatten)           (None, 32768)             0         \n",
            "                                                                 \n",
            " dropout (Dropout)           (None, 32768)             0         \n",
            "                                                                 \n",
            " dense (Dense)               (None, 1)                 32769     \n",
            "                                                                 \n",
            "=================================================================\n",
            "Total params: 2,789,313\n",
            "Trainable params: 2,789,313\n",
            "Non-trainable params: 0\n",
            "_________________________________________________________________\n",
            "None\n"
          ]
        }
      ]
    },
    {
      "cell_type": "code",
      "metadata": {
        "id": "6NH1G6ezdp2K",
        "colab": {
          "base_uri": "https://localhost:8080/"
        },
        "outputId": "e148f39e-452c-4c22-fbb8-3da06667a437"
      },
      "source": [
        "if os.path.isdir('/content/drive/MyDrive/nea_files/newimgs128/model_Generator'):\n",
        "  generator = keras.models.load_model('/content/drive/MyDrive/nea_files/newimgs128/model_Generator')\n",
        "  print(\"model loaded\")\n",
        "\n",
        "else:\n",
        "  latent_dim = 128\n",
        "\n",
        "  generator = keras.Sequential(\n",
        "      [\n",
        "          layers.Input(shape=(latent_dim,)),\n",
        "          layers.Dense(8*8*128),\n",
        "          layers.Reshape((8,8,128)),\n",
        "          layers.Conv2DTranspose(128, kernel_size=4, strides=2, padding=\"same\"),\n",
        "          layers.LeakyReLU(0.2),\n",
        "          layers.Conv2DTranspose(256, kernel_size=4, strides=2, padding=\"same\"),\n",
        "          layers.LeakyReLU(0.2),\n",
        "          layers.Conv2DTranspose(512, kernel_size=4, strides=2, padding=\"same\"),\n",
        "          layers.LeakyReLU(0.2),\n",
        "          layers.Conv2DTranspose(1024, kernel_size=4, strides=2, padding=\"same\"),\n",
        "          layers.LeakyReLU(0.2),\n",
        "          layers.Conv2D(3, kernel_size=5, padding=\"same\", activation=\"sigmoid\"),\n",
        "      ]\n",
        "  )\n",
        "print(generator.summary())"
      ],
      "execution_count": null,
      "outputs": [
        {
          "output_type": "stream",
          "name": "stdout",
          "text": [
            "Model: \"sequential_1\"\n",
            "_________________________________________________________________\n",
            " Layer (type)                Output Shape              Param #   \n",
            "=================================================================\n",
            " dense_1 (Dense)             (None, 8192)              1056768   \n",
            "                                                                 \n",
            " reshape (Reshape)           (None, 8, 8, 128)         0         \n",
            "                                                                 \n",
            " conv2d_transpose (Conv2DTra  (None, 16, 16, 128)      262272    \n",
            " nspose)                                                         \n",
            "                                                                 \n",
            " leaky_re_lu_4 (LeakyReLU)   (None, 16, 16, 128)       0         \n",
            "                                                                 \n",
            " conv2d_transpose_1 (Conv2DT  (None, 32, 32, 256)      524544    \n",
            " ranspose)                                                       \n",
            "                                                                 \n",
            " leaky_re_lu_5 (LeakyReLU)   (None, 32, 32, 256)       0         \n",
            "                                                                 \n",
            " conv2d_transpose_2 (Conv2DT  (None, 64, 64, 512)      2097664   \n",
            " ranspose)                                                       \n",
            "                                                                 \n",
            " leaky_re_lu_6 (LeakyReLU)   (None, 64, 64, 512)       0         \n",
            "                                                                 \n",
            " conv2d_transpose_3 (Conv2DT  (None, 128, 128, 1024)   8389632   \n",
            " ranspose)                                                       \n",
            "                                                                 \n",
            " leaky_re_lu_7 (LeakyReLU)   (None, 128, 128, 1024)    0         \n",
            "                                                                 \n",
            " conv2d_4 (Conv2D)           (None, 128, 128, 3)       76803     \n",
            "                                                                 \n",
            "=================================================================\n",
            "Total params: 12,407,683\n",
            "Trainable params: 12,407,683\n",
            "Non-trainable params: 0\n",
            "_________________________________________________________________\n",
            "None\n"
          ]
        }
      ]
    },
    {
      "cell_type": "code",
      "metadata": {
        "id": "CC5SrAzqfn2f",
        "colab": {
          "base_uri": "https://localhost:8080/"
        },
        "outputId": "0eabfbb5-ad59-4478-c628-58559d1011ec"
      },
      "source": [
        "opt_gen = keras.optimizers.Adam(1e-4)\n",
        "opt_disc = keras.optimizers.Adam(1e-4)\n",
        "loss_fn = keras.losses.BinaryCrossentropy()\n",
        "\n",
        "for epoch in range(1,2):\n",
        "  generator.save(\"/content/drive/MyDrive/nea_files/newimgs128/model_Generator.h5\")\n",
        "  generator.compile()\n",
        "  discriminator.save(\"/content/drive/MyDrive/nea_files/newimgs128/model_Discriminator.h5\")\n",
        "  discriminator.compile()\n",
        "  for i, real in enumerate(tqdm(dataset)):\n",
        "    batch_size = real.shape[0]\n",
        "    random_latent_vectors = tf.random.normal(shape=(batch_size, latent_dim))\n",
        "    fake = generator(random_latent_vectors)\n",
        "\n",
        "    if i % 100 == 0:\n",
        "      img = keras.preprocessing.image.array_to_img(fake[0])\n",
        "      img.save(f\"/content/drive/MyDrive/nea_files/generated_imgs/generated_img{epoch}_{i}.png\")\n",
        "    with tf.GradientTape() as disc_tape:\n",
        "      loss_disc_real = loss_fn(tf.ones(batch_size, 1), discriminator(real))\n",
        "      loss_disc_fake = loss_fn(tf.zeros(batch_size, 1), discriminator(fake))\n",
        "      loss_disc = (loss_disc_real + loss_disc_fake) / 2\n",
        "\n",
        "    grads = disc_tape.gradient(loss_disc, discriminator.trainable_weights)\n",
        "    opt_disc.apply_gradients(\n",
        "        zip(grads, discriminator.trainable_weights)\n",
        "        )\n",
        "    \n",
        "    with tf.GradientTape() as gen_tape:\n",
        "      fake = generator(random_latent_vectors)\n",
        "      output = discriminator(fake)\n",
        "      loss_gen = loss_fn(tf.ones(batch_size, 1), output)\n",
        "\n",
        "    grads = gen_tape.gradient(loss_gen, generator.trainable_weights)\n",
        "    opt_gen.apply_gradients(\n",
        "        zip(grads, generator.trainable_weights)\n",
        "        )\n",
        "    \n"
      ],
      "execution_count": null,
      "outputs": [
        {
          "output_type": "stream",
          "name": "stdout",
          "text": [
            "WARNING:tensorflow:Compiled the loaded model, but the compiled metrics have yet to be built. `model.compile_metrics` will be empty until you train or evaluate the model.\n"
          ]
        },
        {
          "output_type": "stream",
          "name": "stderr",
          "text": [
            "100%|██████████| 8/8 [01:01<00:00,  7.74s/it]\n"
          ]
        }
      ]
    },
    {
      "cell_type": "code",
      "metadata": {
        "id": "E_cIz6Kaur83"
      },
      "source": [
        "img = keras.preprocessing.image.array_to_img(fake[0])\n",
        "img.save(f\"/content/drive/MyDrive/nea_files/generated_imgs/generated_img{epoch}_{i}.png\")"
      ],
      "execution_count": null,
      "outputs": []
    }
  ]
}